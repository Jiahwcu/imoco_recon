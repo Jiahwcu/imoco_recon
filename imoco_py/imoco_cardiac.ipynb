{
 "cells": [
  {
   "cell_type": "code",
   "execution_count": 1,
   "metadata": {},
   "outputs": [],
   "source": [
    "import argparse, os\n",
    "import sigpy as sp\n",
    "import scipy.ndimage as ndimage_c\n",
    "import numpy as np\n",
    "import scipy.io as sio\n",
    "import sys\n",
    "sys.path.append(\"./sigpy_e/\")\n",
    "import sigpy_e.cfl as cfl \n",
    "\n",
    "import sigpy_e.ext as ext\n",
    "import sigpy_e.reg as reg\n",
    "from sigpy_e.linop_e import NFTs,Diags,DLD,Vstacks\n",
    "import sigpy.mri as mr"
   ]
  },
  {
   "cell_type": "code",
   "execution_count": null,
   "metadata": {},
   "outputs": [],
   "source": [
    "res_scale = 0.75\n",
    "fname = '/data/Jiahao/lung_mri/MRI_Raw'\n",
    "lambda_TV = 0.05\n",
    "device = 0\n",
    "outer_iter = 20\n",
    "fov_scale = (1, 1, 1)\n",
    "\n",
    "res_scale = 1\n",
    "outer_iter = 20\n",
    "iner_iter = 15\n",
    "n_ref = -1\n",
    "reg_flag = 1\n",
    "\n",
    "## data loading\n",
    "data = cfl.read_cfl(fname+'_datam')\n",
    "traj = np.real(cfl.read_cfl(fname+'_trajm'))\n",
    "dcf = cfl.read_cfl(fname+'_dcf2m')\n",
    "\n",
    "nf_scale = 0.75\n",
    "nf_arr = np.sqrt(np.sum(traj[0,0,0,0,:,:]**2,axis = 1)) \n",
    "nf_e = np.sum(nf_arr<np.max(nf_arr)*nf_scale)\n",
    "scale = fov_scale\n",
    "traj[...,0] = traj[...,0]*scale[0]\n",
    "traj[...,1] = traj[...,1]*scale[1]\n",
    "traj[...,2] = traj[...,2]*scale[2]\n",
    "\n",
    "traj = traj[...,:nf_e,:]\n",
    "data = data[...,:nf_e,:]\n",
    "dcf = dcf[...,:nf_e,:]\n",
    "\n",
    "nphase,nEcalib,nCoil,npe,nfe,_ = data.shape\n",
    "tshape = (380, 256, 256)\n",
    "\n",
    "ksp = np.reshape(np.transpose(data,(2,1,0,3,4,5)),(nCoil,nphase*npe,nfe))\n",
    "dcf2 = np.reshape(np.transpose(dcf**2,(2,1,0,3,4,5)),(nphase*npe,nfe))\n",
    "coord = np.reshape(np.transpose(traj,(2,1,0,3,4,5)),(nphase*npe,nfe,3))\n",
    "\n",
    "## sensitivity maps\n",
    "mps = ext.jsens_calib(ksp,coord,dcf2,device = sp.Device(device),ishape = tshape)\n",
    "S = sp.linop.Multiply(tshape, mps)"
   ]
  },
  {
   "cell_type": "code",
   "execution_count": 2,
   "metadata": {},
   "outputs": [],
   "source": [
    "## XD-GRASP recon start point\n",
    "reg_flag = 1\n",
    "fname = '/data/Jiahao/spiral/fb-data/110422-6/ex17087-P37376'\n",
    "imgLs = cfl.read_cfl(os.path.join(fname, 'recon_l1_tv_5'))\n",
    "imgL = np.squeeze(imgLs[0,0,...])\n",
    "\n",
    "## data loading\n",
    "data_all = cfl.read_cfl(os.path.join(fname,'ksp'))\n",
    "traj_all = np.real(cfl.read_cfl(os.path.join(fname,'traj')))\n",
    "mps = cfl.read_cfl(os.path.join(fname, 'sens'))\n",
    "kdens = np.squeeze(sio.loadmat(os.path.join(fname, 'kdens.mat'))['kdens'])\n",
    "nresp, ncard, ne, nCoil, npe, nfe = np.squeeze(data_all).shape\n",
    "tshape = imgL.shape[1::]\n",
    "S = sp.linop.Multiply(tshape, mps)"
   ]
  },
  {
   "cell_type": "code",
   "execution_count": 3,
   "metadata": {},
   "outputs": [],
   "source": [
    "# test on a fixed resp phase and all card phases\n",
    "nphase = ncard\n",
    "traj = np.squeeze(traj_all)[0,:,np.newaxis,np.newaxis,...]\n",
    "data = np.squeeze(data_all)[0,:,np.newaxis,1,...,np.newaxis]\n",
    "dcf = np.tile(np.sqrt(kdens), (nphase, npe, 1))[:,np.newaxis,np.newaxis,...,np.newaxis]\n",
    "traj[...,[0,2]] = traj[...,[2,0]]\n",
    "# imoco recon params\n",
    "lambda_TV = 0.05\n",
    "outer_iter = 20\n",
    "reg_flag = 0"
   ]
  },
  {
   "cell_type": "code",
   "execution_count": 4,
   "metadata": {},
   "outputs": [
    {
     "name": "stdout",
     "output_type": "stream",
     "text": [
      "Registration...\n",
      "Motion Field scaling...\n"
     ]
    }
   ],
   "source": [
    "## registration\n",
    "nphase = 12\n",
    "n_ref = 11\n",
    "print('Registration...')\n",
    "M_fields = []\n",
    "iM_fields = []\n",
    "if reg_flag == 1:\n",
    "    for i in range(nphase):\n",
    "        M_field, iM_field = reg.ANTsReg(np.abs(imgL[n_ref]), np.abs(imgL[i]))\n",
    "        M_fields.append(M_field)\n",
    "        iM_fields.append(iM_field)\n",
    "    M_fields = np.asarray(M_fields)\n",
    "    iM_fields = np.asarray(iM_fields)\n",
    "    np.save(os.path.join(fname, 'M_mr.npy'),M_fields)\n",
    "    np.save(os.path.join(fname, 'iM_mr.npy'),iM_fields)\n",
    "else:\n",
    "    M_fields = np.load(os.path.join(fname,'M_mr.npy'))\n",
    "    iM_fields = np.load(os.path.join(fname,'iM_mr.npy'))\n",
    "\n",
    "# numpy array to list\n",
    "iM_fields = [iM_fields[i] for i in range(iM_fields.shape[0])]\n",
    "M_fields = [M_fields[i] for i in range(M_fields.shape[0])]\n",
    "\n",
    "######## TODO scale M_field\n",
    "print('Motion Field scaling...')\n",
    "M_fields = [reg.M_scale(M,tshape) for M in M_fields]\n",
    "iM_fields = [reg.M_scale(M,tshape) for M in iM_fields]"
   ]
  },
  {
   "cell_type": "code",
   "execution_count": 5,
   "metadata": {},
   "outputs": [
    {
     "name": "stdout",
     "output_type": "stream",
     "text": [
      "Prep...\n"
     ]
    }
   ],
   "source": [
    "## low rank\n",
    "device = 0\n",
    "\n",
    "\n",
    "print('Prep...')\n",
    "Ms = []\n",
    "M0s = []\n",
    "for i in range(nphase):\n",
    "    # M = reg.interp_op(tshape,iM_fields[i],M_fields[i])\n",
    "    M = reg.interp_op(tshape,M_fields[i])\n",
    "    M0 = reg.interp_op(tshape,np.zeros(tshape+(3,)))\n",
    "    M = DLD(M,device=sp.Device(device))\n",
    "    M0 = DLD(M0,device=sp.Device(device))\n",
    "    Ms.append(M)\n",
    "    M0s.append(M0)\n",
    "Ms = Diags(Ms,oshape=(nphase,)+tshape,ishape=(nphase,)+tshape)\n",
    "M0s = Diags(M0s,oshape=(nphase,)+tshape,ishape=(nphase,)+tshape)\n"
   ]
  },
  {
   "cell_type": "code",
   "execution_count": 6,
   "metadata": {},
   "outputs": [
    {
     "name": "stdout",
     "output_type": "stream",
     "text": [
      "Preconditioner calculation...\n"
     ]
    }
   ],
   "source": [
    "PFTSMs = []\n",
    "Is = []\n",
    "for i in range(nphase):\n",
    "    Is.append(sp.linop.Identity(tshape))\n",
    "    FTs = NFTs((nCoil,)+tshape,traj[i,0,0,...],device=sp.Device(device))\n",
    "    M = reg.interp_op(tshape,M_fields[i])\n",
    "    M = DLD(M,device=sp.Device(device))\n",
    "    W = sp.linop.Multiply((nCoil,npe,nfe,),dcf[i,0,0,:,:,0]) \n",
    "    FTSM = W*FTs*S*M\n",
    "    PFTSMs.append(FTSM)\n",
    "PFTSMs = Diags(PFTSMs,oshape=(nphase,nCoil,npe,nfe,),ishape=(nphase,)+tshape)*Vstacks(Is,ishape=tshape,oshape=(nphase,)+tshape)\n",
    "\n",
    "## precondition\n",
    "print('Preconditioner calculation...')\n",
    "tmp = PFTSMs.H*PFTSMs*np.complex64(np.ones(tshape))\n",
    "L=np.mean(np.abs(tmp))\n",
    "wdata = data[:,0,:,:,:,0]*dcf[:,0,:,:,:,0]*1e4\n",
    "\n",
    "TV = sp.linop.FiniteDifference(PFTSMs.ishape,axes = (0,1,2))"
   ]
  },
  {
   "cell_type": "code",
   "execution_count": 7,
   "metadata": {},
   "outputs": [
    {
     "name": "stdout",
     "output_type": "stream",
     "text": [
      "TV dim:[3, 28, 256, 256]\n",
      "Recon...\n",
      "alpha:7237.257580239187\n",
      "outer iter:0, res:1.0\n",
      "outer iter:1, res:0.6088739426550389\n",
      "outer iter:2, res:0.4014321874683403\n",
      "outer iter:3, res:0.2694029279751769\n",
      "outer iter:4, res:0.17768674081268618\n",
      "outer iter:5, res:0.11276571037934194\n",
      "outer iter:6, res:0.07049511088836011\n",
      "outer iter:7, res:0.05138533672341825\n",
      "outer iter:8, res:0.04987250497471724\n",
      "outer iter:9, res:0.052204013020284046\n",
      "outer iter:10, res:0.05111733399744803\n",
      "outer iter:11, res:0.04593337897661696\n",
      "outer iter:12, res:0.038520562168982204\n",
      "outer iter:13, res:0.03126929965094747\n",
      "outer iter:14, res:0.025822314392938483\n",
      "outer iter:15, res:0.022332723427159754\n",
      "outer iter:16, res:0.01988433819464816\n",
      "outer iter:17, res:0.017644932049827807\n",
      "outer iter:18, res:0.01537155437665405\n",
      "outer iter:19, res:0.013205140656093527\n"
     ]
    }
   ],
   "source": [
    "####### debug\n",
    "print('TV dim:{}'.format(TV.oshape))\n",
    "proxg = sp.prox.UnitaryTransform(sp.prox.L1Reg(TV.oshape, lambda_TV), TV)\n",
    "\n",
    "# ADMM\n",
    "print('Recon...')\n",
    "alpha = np.max(np.abs(PFTSMs.H*wdata))\n",
    "###### debug\n",
    "print('alpha:{}'.format(alpha))\n",
    "sigma = 0.4\n",
    "tau = 0.4\n",
    "X = np.zeros(tshape,dtype=np.complex64)\n",
    "p = np.zeros_like(wdata)\n",
    "X0 = np.zeros_like(X)\n",
    "q = np.zeros((3,)+tshape,dtype=np.complex64)\n",
    "for i in range(outer_iter):\n",
    "    p = (p + sigma*(PFTSMs*X-wdata))/(1+sigma)\n",
    "    q = (q + sigma*TV*X)\n",
    "    q = q/(np.maximum(np.abs(q),alpha)/alpha)\n",
    "    X0 = X\n",
    "    X = X-tau*(1/L*PFTSMs.H*p + lambda_TV*TV.H*q)\n",
    "    print('outer iter:{}, res:{}'.format(i,np.linalg.norm(X-X0)/np.linalg.norm(X)))\n",
    "\n",
    "    cfl.write_cfl(os.path.join(fname, 'imoco_test'), X)"
   ]
  },
  {
   "cell_type": "code",
   "execution_count": 52,
   "metadata": {},
   "outputs": [],
   "source": [
    "M_fields_ants = np.load(os.path.join(fname, 'M_mr.npy'))\n",
    "iM_fields_ants = np.load(os.path.join(fname,'iM_mr.npy'))\n",
    "cfl.write_cfl(os.path.join(fname,'M_ants'), M_fields_ants)\n",
    "cfl.write_cfl(os.path.join(fname,'iM_ants'), iM_fields_ants)"
   ]
  },
  {
   "cell_type": "code",
   "execution_count": null,
   "metadata": {},
   "outputs": [],
   "source": []
  }
 ],
 "metadata": {
  "kernelspec": {
   "display_name": "base",
   "language": "python",
   "name": "python3"
  },
  "language_info": {
   "codemirror_mode": {
    "name": "ipython",
    "version": 3
   },
   "file_extension": ".py",
   "mimetype": "text/x-python",
   "name": "python",
   "nbconvert_exporter": "python",
   "pygments_lexer": "ipython3",
   "version": "3.9.12"
  },
  "orig_nbformat": 4
 },
 "nbformat": 4,
 "nbformat_minor": 2
}
