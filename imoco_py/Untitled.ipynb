{
 "cells": [
  {
   "cell_type": "code",
   "execution_count": 1,
   "id": "54339b36",
   "metadata": {},
   "outputs": [],
   "source": [
    "import argparse \n",
    "import sigpy as sp\n",
    "import scipy.ndimage as ndimage_c\n",
    "import numpy as np\n",
    "\n",
    "import sys\n",
    "sys.path.append(\"./sigpy_e/\")\n",
    "import sigpy_e.cfl as cfl \n",
    "\n",
    "import sigpy_e.ext as ext\n",
    "import sigpy_e.reg as reg\n",
    "from sigpy_e.linop_e import NFTs,Diags,DLD,Vstacks\n",
    "import sigpy.mri as mr"
   ]
  },
  {
   "cell_type": "code",
   "execution_count": 4,
   "id": "0039b357",
   "metadata": {},
   "outputs": [],
   "source": [
    "res_scale = 0.75\n",
    "fname = '/data/Jiahao/lung_mri/MRI_Raw'\n",
    "lambda_TV = 0.05\n",
    "device = 0\n",
    "outer_iter = 20\n",
    "fov_scale = (1, 1, 1)"
   ]
  },
  {
   "cell_type": "code",
   "execution_count": 35,
   "id": "2f21a6b0",
   "metadata": {},
   "outputs": [],
   "source": [
    "## data loading\n",
    "data = cfl.read_cfl(fname+'_datam')\n",
    "traj = np.real(cfl.read_cfl(fname+'_trajm'))\n",
    "dcf = cfl.read_cfl(fname+'_dcf2m')\n"
   ]
  },
  {
   "cell_type": "code",
   "execution_count": 36,
   "id": "5100480a",
   "metadata": {},
   "outputs": [],
   "source": [
    "nf_scale = 0.75\n",
    "nf_arr = np.sqrt(np.sum(traj[0,0,0,0,:,:]**2,axis = 1)) \n",
    "nf_e = np.sum(nf_arr<np.max(nf_arr)*nf_scale)\n",
    "scale = fov_scale\n",
    "traj[...,0] = traj[...,0]*scale[0]\n",
    "traj[...,1] = traj[...,1]*scale[1]\n",
    "traj[...,2] = traj[...,2]*scale[2]\n",
    "\n",
    "traj = traj[...,:nf_e,:]\n",
    "data = data[...,:nf_e,:]\n",
    "dcf = dcf[...,:nf_e,:]\n",
    "\n",
    "nphase,nEcalib,nCoil,npe,nfe,_ = data.shape\n",
    "tshape = (380, 256, 256)"
   ]
  },
  {
   "cell_type": "code",
   "execution_count": 37,
   "id": "19893506",
   "metadata": {},
   "outputs": [
    {
     "data": {
      "application/vnd.jupyter.widget-view+json": {
       "model_id": "855388f7b6b74af899c44ee310042ea8",
       "version_major": 2,
       "version_minor": 0
      },
      "text/plain": [
       "JsenseRecon:   0%|          | 0/10 [00:00<?, ?it/s]"
      ]
     },
     "metadata": {},
     "output_type": "display_data"
    }
   ],
   "source": [
    "ksp = np.reshape(np.transpose(data,(2,1,0,3,4,5)),(nCoil,nphase*npe,nfe))\n",
    "dcf2 = np.reshape(np.transpose(dcf**2,(2,1,0,3,4,5)),(nphase*npe,nfe))\n",
    "coord = np.reshape(np.transpose(traj,(2,1,0,3,4,5)),(nphase*npe,nfe,3))\n",
    "\n",
    "mps = ext.jsens_calib(ksp,coord,dcf2,device = sp.Device(device),ishape = tshape)\n",
    "S = sp.linop.Multiply(tshape, mps)"
   ]
  },
  {
   "cell_type": "code",
   "execution_count": 38,
   "id": "1419fb22",
   "metadata": {},
   "outputs": [],
   "source": [
    "### recon\n",
    "PFTSs = []\n",
    "for i in range(nphase):\n",
    "    FTs = NFTs((nCoil,)+tshape,traj[i,0,0,...],device=sp.Device(device))\n",
    "    W = sp.linop.Multiply((nCoil,npe,nfe,),dcf[i,0,0,:,:,0]) \n",
    "    FTSs = W*FTs*S\n",
    "    PFTSs.append(FTSs)\n",
    "PFTSs = Diags(PFTSs,oshape=(nphase,nCoil,npe,nfe,),ishape=(nphase,)+tshape)\n",
    "\n",
    "## preconditioner\n",
    "wdata = data[:,0,:,:,:,0]*dcf[:,0,:,:,:,0]\n",
    "tmp = PFTSs.H*PFTSs*np.complex64(np.ones((nphase,)+tshape))\n",
    "L=np.mean(np.abs(tmp))"
   ]
  },
  {
   "cell_type": "code",
   "execution_count": 39,
   "id": "17ba999a",
   "metadata": {},
   "outputs": [
    {
     "name": "stdout",
     "output_type": "stream",
     "text": [
      "outer iter:0, res:1.0\n",
      "outer iter:1, res:0.6152777075767517\n",
      "outer iter:2, res:0.41512995958328247\n",
      "outer iter:3, res:0.28948768973350525\n",
      "outer iter:4, res:0.201780304312706\n",
      "outer iter:5, res:0.13650698959827423\n",
      "outer iter:6, res:0.08614236116409302\n",
      "outer iter:7, res:0.04683448374271393\n",
      "outer iter:8, res:0.017114846035838127\n",
      "outer iter:9, res:0.010728595778346062\n",
      "outer iter:10, res:0.025127502158284187\n",
      "outer iter:11, res:0.03456598147749901\n",
      "outer iter:12, res:0.03831390663981438\n",
      "outer iter:13, res:0.03708263486623764\n",
      "outer iter:14, res:0.0320313386619091\n",
      "outer iter:15, res:0.02461172454059124\n",
      "outer iter:16, res:0.016355693340301514\n",
      "outer iter:17, res:0.008692963048815727\n",
      "outer iter:18, res:0.003517814911901951\n",
      "outer iter:19, res:0.004671511240303516\n"
     ]
    }
   ],
   "source": [
    "## reconstruction\n",
    "q2 = np.zeros((nphase,)+tshape,dtype=np.complex64)\n",
    "Y = np.zeros_like(wdata)\n",
    "q20 = np.zeros_like(q2)\n",
    "\n",
    "sigma = 0.4\n",
    "tau = 0.4\n",
    "for i in range(outer_iter):\n",
    "    Y = (Y + sigma*(1/L*PFTSs*q2-wdata))/(1+sigma)\n",
    "    \n",
    "    q20 = q2\n",
    "    q2 = np.complex64(ext.TVt_prox(q2-tau*PFTSs.H*Y,lambda_TV))\n",
    "    print('outer iter:{}, res:{}'.format(i,np.linalg.norm(q2-q20)/np.linalg.norm(q2)))\n",
    "\n",
    "    cfl.write_cfl(fname+'_mrL', q2)"
   ]
  },
  {
   "cell_type": "code",
   "execution_count": 2,
   "id": "58f4940a",
   "metadata": {},
   "outputs": [],
   "source": [
    "res_scale = 1\n",
    "outer_iter = 20\n",
    "iner_iter = 15\n",
    "n_ref = -1\n",
    "reg_flag = 1"
   ]
  },
  {
   "cell_type": "code",
   "execution_count": 5,
   "id": "6528cc60",
   "metadata": {},
   "outputs": [],
   "source": [
    "## data loading\n",
    "data = cfl.read_cfl(fname+'_datam')\n",
    "traj = np.real(cfl.read_cfl(fname+'_trajm'))\n",
    "dcf = cfl.read_cfl(fname+'_dcf2m')\n",
    "nf_scale = res_scale\n",
    "nf_arr = np.sqrt(np.sum(traj[0,0,0,0,:,:]**2,axis = 1)) \n",
    "nf_e = np.sum(nf_arr<np.max(nf_arr)*nf_scale)\n",
    "scale = fov_scale\n",
    "traj[...,0] = traj[...,0]*scale[0]\n",
    "traj[...,1] = traj[...,1]*scale[1]\n",
    "traj[...,2] = traj[...,2]*scale[2]\n",
    "\n",
    "traj = traj[...,:nf_e,:]\n",
    "data = data[...,:nf_e,:]\n",
    "dcf = dcf[...,:nf_e,:]\n",
    "\n",
    "nphase,nEcalib,nCoil,npe,nfe,_ = data.shape\n",
    "tshape = (380,256,256)"
   ]
  },
  {
   "cell_type": "code",
   "execution_count": 6,
   "id": "5de416da",
   "metadata": {},
   "outputs": [
    {
     "name": "stderr",
     "output_type": "stream",
     "text": [
      "<>:17: SyntaxWarning:\n",
      "\n",
      "\"is\" with a literal. Did you mean \"==\"?\n",
      "\n",
      "<>:17: SyntaxWarning:\n",
      "\n",
      "\"is\" with a literal. Did you mean \"==\"?\n",
      "\n"
     ]
    },
    {
     "name": "stdout",
     "output_type": "stream",
     "text": [
      "Calibration...\n"
     ]
    },
    {
     "data": {
      "application/vnd.jupyter.widget-view+json": {
       "model_id": "8495cd5470a24e25be3ff5588f907eda",
       "version_major": 2,
       "version_minor": 0
      },
      "text/plain": [
       "JsenseRecon:   0%|          | 0/10 [00:00<?, ?it/s]"
      ]
     },
     "metadata": {},
     "output_type": "display_data"
    },
    {
     "name": "stdout",
     "output_type": "stream",
     "text": [
      "Registration...\n"
     ]
    },
    {
     "name": "stderr",
     "output_type": "stream",
     "text": [
      "/tmp/ipykernel_32951/73482226.py:17: SyntaxWarning:\n",
      "\n",
      "\"is\" with a literal. Did you mean \"==\"?\n",
      "\n"
     ]
    },
    {
     "name": "stdout",
     "output_type": "stream",
     "text": [
      "Motion Field scaling...\n"
     ]
    }
   ],
   "source": [
    "## calibration\n",
    "print('Calibration...')\n",
    "ksp = np.reshape(np.transpose(data,(2,1,0,3,4,5)),(nCoil,nphase*npe,nfe))\n",
    "dcf2 = np.reshape(np.transpose(dcf**2,(2,1,0,3,4,5)),(nphase*npe,nfe))\n",
    "coord = np.reshape(np.transpose(traj,(2,1,0,3,4,5)),(nphase*npe,nfe,3))\n",
    "\n",
    "mps = ext.jsens_calib(ksp,coord,dcf2,device = sp.Device(device),ishape = tshape)\n",
    "S = sp.linop.Multiply(tshape, mps)\n",
    "\n",
    "imgL = cfl.read_cfl(fname+'_mrL')\n",
    "imgL = np.squeeze(imgL)\n",
    "\n",
    "## registration\n",
    "print('Registration...')\n",
    "M_fields = []\n",
    "iM_fields = []\n",
    "if reg_flag is 1:\n",
    "    for i in range(nphase):\n",
    "        M_field, iM_field = reg.ANTsReg(np.abs(imgL[n_ref]), np.abs(imgL[i]))\n",
    "        M_fields.append(M_field)\n",
    "        iM_fields.append(iM_field)\n",
    "    M_fields = np.asarray(M_fields)\n",
    "    iM_fields = np.asarray(iM_fields)\n",
    "    np.save(fname+'_M_mr.npy',M_fields)\n",
    "    np.save(fname+'_iM_mr.npy',iM_fields)\n",
    "else:\n",
    "    M_fields = np.load(fname+'_M_mr.npy')\n",
    "    iM_fields = np.load(fname+'_iM_mr.npy')\n",
    "\n",
    "# numpy array to list\n",
    "iM_fields = [iM_fields[i] for i in range(iM_fields.shape[0])]\n",
    "M_fields = [M_fields[i] for i in range(M_fields.shape[0])]\n",
    "\n",
    "######## TODO scale M_field\n",
    "print('Motion Field scaling...')\n",
    "M_fields = [reg.M_scale(M,tshape) for M in M_fields]\n",
    "iM_fields = [reg.M_scale(M,tshape) for M in iM_fields]"
   ]
  },
  {
   "cell_type": "code",
   "execution_count": 7,
   "id": "2c0ae2b6",
   "metadata": {},
   "outputs": [
    {
     "name": "stdout",
     "output_type": "stream",
     "text": [
      "Prep...\n",
      "Preconditioner calculation...\n"
     ]
    }
   ],
   "source": [
    "## low rank\n",
    "print('Prep...')\n",
    "Ms = []\n",
    "M0s = []\n",
    "for i in range(nphase):\n",
    "    # M = reg.interp_op(tshape,iM_fields[i],M_fields[i])\n",
    "    M = reg.interp_op(tshape,M_fields[i])\n",
    "    M0 = reg.interp_op(tshape,np.zeros(tshape+(3,)))\n",
    "    M = DLD(M,device=sp.Device(device))\n",
    "    M0 = DLD(M0,device=sp.Device(device))\n",
    "    Ms.append(M)\n",
    "    M0s.append(M0)\n",
    "Ms = Diags(Ms,oshape=(nphase,)+tshape,ishape=(nphase,)+tshape)\n",
    "M0s = Diags(M0s,oshape=(nphase,)+tshape,ishape=(nphase,)+tshape)\n",
    "\n",
    "PFTSMs = []\n",
    "Is = []\n",
    "for i in range(nphase):\n",
    "    Is.append(sp.linop.Identity(tshape))\n",
    "    FTs = NFTs((nCoil,)+tshape,traj[i,0,0,...],device=sp.Device(device))\n",
    "    M = reg.interp_op(tshape,M_fields[i])\n",
    "    M = DLD(M,device=sp.Device(device))\n",
    "    W = sp.linop.Multiply((nCoil,npe,nfe,),dcf[i,0,0,:,:,0]) \n",
    "    FTSM = W*FTs*S*M\n",
    "    PFTSMs.append(FTSM)\n",
    "PFTSMs = Diags(PFTSMs,oshape=(nphase,nCoil,npe,nfe,),ishape=(nphase,)+tshape)*Vstacks(Is,ishape=tshape,oshape=(nphase,)+tshape)\n",
    "\n",
    "## precondition\n",
    "print('Preconditioner calculation...')\n",
    "tmp = PFTSMs.H*PFTSMs*np.complex64(np.ones(tshape))\n",
    "L=np.mean(np.abs(tmp))\n",
    "wdata = data[:,0,:,:,:,0]*dcf[:,0,:,:,:,0]*1e4\n",
    "\n",
    "TV = sp.linop.FiniteDifference(PFTSMs.ishape,axes = (0,1,2))"
   ]
  },
  {
   "cell_type": "code",
   "execution_count": 8,
   "id": "128a724b",
   "metadata": {},
   "outputs": [
    {
     "name": "stdout",
     "output_type": "stream",
     "text": [
      "TV dim:[3, 380, 256, 256]\n",
      "Recon...\n",
      "alpha:8.979140281677246\n",
      "outer iter:0, res:1.0\n",
      "outer iter:1, res:0.6154823899269104\n",
      "outer iter:2, res:0.41538119316101074\n",
      "outer iter:3, res:0.28970643877983093\n",
      "outer iter:4, res:0.20190787315368652\n",
      "outer iter:5, res:0.13648439943790436\n",
      "outer iter:6, res:0.08590278029441833\n",
      "outer iter:7, res:0.04626091569662094\n",
      "outer iter:8, res:0.015832984820008278\n",
      "outer iter:9, res:0.010160350240767002\n",
      "outer iter:10, res:0.02571268565952778\n",
      "outer iter:11, res:0.035586945712566376\n",
      "outer iter:12, res:0.03962282836437225\n",
      "outer iter:13, res:0.03857368603348732\n",
      "outer iter:14, res:0.033607207238674164\n",
      "outer iter:15, res:0.02619597315788269\n",
      "outer iter:16, res:0.01792795956134796\n",
      "outer iter:17, res:0.010354213416576385\n",
      "outer iter:18, res:0.005410945042967796\n",
      "outer iter:19, res:0.005533785559237003\n"
     ]
    }
   ],
   "source": [
    "####### debug\n",
    "print('TV dim:{}'.format(TV.oshape))\n",
    "proxg = sp.prox.UnitaryTransform(sp.prox.L1Reg(TV.oshape, lambda_TV), TV)\n",
    "\n",
    "# ADMM\n",
    "print('Recon...')\n",
    "alpha = np.max(np.abs(PFTSMs.H*wdata))\n",
    "###### debug\n",
    "print('alpha:{}'.format(alpha))\n",
    "sigma = 0.4\n",
    "tau = 0.4\n",
    "X = np.zeros(tshape,dtype=np.complex64)\n",
    "p = np.zeros_like(wdata)\n",
    "X0 = np.zeros_like(X)\n",
    "q = np.zeros((3,)+tshape,dtype=np.complex64)\n",
    "for i in range(outer_iter):\n",
    "    p = (p + sigma*(PFTSMs*X-wdata))/(1+sigma)\n",
    "    q = (q + sigma*TV*X)\n",
    "    q = q/(np.maximum(np.abs(q),alpha)/alpha)\n",
    "    X0 = X\n",
    "    X = X-tau*(1/L*PFTSMs.H*p + lambda_TV*TV.H*q)\n",
    "    print('outer iter:{}, res:{}'.format(i,np.linalg.norm(X-X0)/np.linalg.norm(X)))\n",
    "\n",
    "    cfl.write_cfl(fname+'_imoco_new', X)"
   ]
  },
  {
   "cell_type": "code",
   "execution_count": 47,
   "id": "241d0ae2",
   "metadata": {},
   "outputs": [
    {
     "data": {
      "text/plain": [
       "(380, 256, 256, 3)"
      ]
     },
     "execution_count": 47,
     "metadata": {},
     "output_type": "execute_result"
    }
   ],
   "source": [
    "M_fields[0].shape"
   ]
  },
  {
   "cell_type": "code",
   "execution_count": 48,
   "id": "e361e847",
   "metadata": {},
   "outputs": [
    {
     "data": {
      "text/plain": [
       "(2, 8, 38514, 199)"
      ]
     },
     "execution_count": 48,
     "metadata": {},
     "output_type": "execute_result"
    }
   ],
   "source": [
    "wdata.shape"
   ]
  },
  {
   "cell_type": "code",
   "execution_count": 49,
   "id": "bf8112cc",
   "metadata": {},
   "outputs": [
    {
     "data": {
      "text/plain": [
       "(2, 1, 8, 38514, 199, 1)"
      ]
     },
     "execution_count": 49,
     "metadata": {},
     "output_type": "execute_result"
    }
   ],
   "source": [
    "data.shape"
   ]
  },
  {
   "cell_type": "code",
   "execution_count": 52,
   "id": "339444bd",
   "metadata": {},
   "outputs": [
    {
     "data": {
      "text/plain": [
       "[2, 8, 38514, 199]"
      ]
     },
     "execution_count": 52,
     "metadata": {},
     "output_type": "execute_result"
    }
   ],
   "source": [
    "PFTSMs.oshape"
   ]
  },
  {
   "cell_type": "code",
   "execution_count": 16,
   "id": "61caa6f1",
   "metadata": {},
   "outputs": [],
   "source": [
    "M_fields_ants = np.load(fname+'_M_mr.npy')\n",
    "iM_fields_ants = np.load(fname+'_iM_mr.npy')\n",
    "cfl.write_cfl(fname+'M_ants', M_fields_ants)\n",
    "cfl.write_cfl(fname+'iM_ants', iM_fields_ants)"
   ]
  }
 ],
 "metadata": {
  "kernelspec": {
   "display_name": "Python 3 (ipykernel)",
   "language": "python",
   "name": "python3"
  },
  "language_info": {
   "codemirror_mode": {
    "name": "ipython",
    "version": 3
   },
   "file_extension": ".py",
   "mimetype": "text/x-python",
   "name": "python",
   "nbconvert_exporter": "python",
   "pygments_lexer": "ipython3",
   "version": "3.9.12"
  }
 },
 "nbformat": 4,
 "nbformat_minor": 5
}
